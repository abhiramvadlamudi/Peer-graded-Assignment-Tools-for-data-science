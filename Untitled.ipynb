{
 "cells": [
  {
   "cell_type": "markdown",
   "id": "048b403d-c652-4030-90c5-e4a56079b093",
   "metadata": {
    "tags": []
   },
   "source": [
    "### My Jupyter Notebook on IBM Watson Studio\n",
    "**ABHIRAM Vadlamudi**- student\n",
    "*I am interested in data science because analysis of data gives holistic perspective and help improve how humans make decisions and shows how AI optimizes outcomes*\n",
    "\n",
    "**simple program**"
   ]
  },
  {
   "cell_type": "code",
   "execution_count": 1,
   "id": "6e448f9c-5720-4e45-9bfe-ee65f9e68757",
   "metadata": {},
   "outputs": [
    {
     "name": "stdout",
     "output_type": "stream",
     "text": [
      "3\n"
     ]
    }
   ],
   "source": [
    "a=1\n",
    "b=2\n",
    "c=a+b\n",
    "print (c)"
   ]
  },
  {
   "cell_type": "markdown",
   "id": "5ae64a36-eafe-4752-a18d-e13cc4c5565e",
   "metadata": {},
   "source": [
    "- List 1\n",
    "- List 2\n",
    "- List 3\n",
    "\n",
    "1. Numbered list 1\n",
    "2. Numbered list 2\n",
    "\n",
    "~~This text is struckthrough.~~ This one isn’t."
   ]
  },
  {
   "cell_type": "code",
   "execution_count": null,
   "id": "a63f43ee-1c67-43cb-8347-d5c908347770",
   "metadata": {},
   "outputs": [],
   "source": []
  }
 ],
 "metadata": {
  "kernelspec": {
   "display_name": "Python 3 (ipykernel)",
   "language": "python",
   "name": "python3"
  },
  "language_info": {
   "codemirror_mode": {
    "name": "ipython",
    "version": 3
   },
   "file_extension": ".py",
   "mimetype": "text/x-python",
   "name": "python",
   "nbconvert_exporter": "python",
   "pygments_lexer": "ipython3",
   "version": "3.9.7"
  }
 },
 "nbformat": 4,
 "nbformat_minor": 5
}
